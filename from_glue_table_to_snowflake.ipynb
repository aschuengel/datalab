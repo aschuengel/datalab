{
 "cells": [
  {
   "cell_type": "code",
   "execution_count": 18,
   "id": "eb790cb5",
   "metadata": {},
   "outputs": [
    {
     "data": {
      "application/vnd.jupyter.widget-view+json": {
       "model_id": "",
       "version_major": 2,
       "version_minor": 0
      },
      "text/plain": [
       "FloatProgress(value=0.0, bar_style='info', description='Progress:', layout=Layout(height='25px', width='50%'),…"
      ]
     },
     "metadata": {},
     "output_type": "display_data"
    }
   ],
   "source": [
    "import sys\n",
    "from awsglue.transforms import *\n",
    "from awsglue.utils import getResolvedOptions\n",
    "from pyspark.context import SparkContext\n",
    "from awsglue.context import GlueContext\n",
    "from awsglue.job import Job\n",
    "from awsglue.dynamicframe import DynamicFrame\n",
    "import re\n",
    "\n",
    "glueContext = GlueContext(SparkContext.getOrCreate())"
   ]
  },
  {
   "cell_type": "code",
   "execution_count": 25,
   "id": "9a4c3c5d",
   "metadata": {},
   "outputs": [
    {
     "data": {
      "application/vnd.jupyter.widget-view+json": {
       "model_id": "",
       "version_major": 2,
       "version_minor": 0
      },
      "text/plain": [
       "FloatProgress(value=0.0, bar_style='info', description='Progress:', layout=Layout(height='25px', width='50%'),…"
      ]
     },
     "metadata": {},
     "output_type": "display_data"
    },
    {
     "name": "stderr",
     "output_type": "stream",
     "text": [
      "An error was encountered:\n",
      "An error occurred while calling o981.pyWriteDynamicFrame.\n",
      ": java.sql.SQLException: No suitable driver\n",
      "\tat java.sql.DriverManager.getDriver(DriverManager.java:315)\n",
      "\tat org.apache.spark.sql.execution.datasources.jdbc.JDBCOptions$$anonfun$6.apply(JDBCOptions.scala:105)\n",
      "\tat org.apache.spark.sql.execution.datasources.jdbc.JDBCOptions$$anonfun$6.apply(JDBCOptions.scala:105)\n",
      "\tat scala.Option.getOrElse(Option.scala:121)\n",
      "\tat org.apache.spark.sql.execution.datasources.jdbc.JDBCOptions.<init>(JDBCOptions.scala:104)\n",
      "\tat org.apache.spark.sql.jdbc.glue.GlueJDBCOptions.<init>(GlueJDBCOptions.scala:14)\n",
      "\tat org.apache.spark.sql.jdbc.glue.GlueJDBCOptions.<init>(GlueJDBCOptions.scala:17)\n",
      "\tat com.amazonaws.services.glue.marketplace.partner.PartnerJDBCRecordWriterFactory.<init>(PartnerJDBCDataSink.scala:78)\n",
      "\tat com.amazonaws.services.glue.marketplace.partner.PartnerJDBCDataSink.createWriterFactory(PartnerJDBCDataSink.scala:32)\n",
      "\tat com.amazonaws.services.glue.marketplace.partner.PartnerJDBCDataSink.createWriterFactory(PartnerJDBCDataSink.scala:23)\n",
      "\tat com.amazonaws.services.glue.marketplace.connector.GlueCustomDataSink.defaultWriteDynamicFrame(CustomDataSink.scala:68)\n",
      "\tat com.amazonaws.services.glue.marketplace.connector.GlueCustomDataSink.writeDynamicFrame(CustomDataSink.scala:61)\n",
      "\tat com.amazonaws.services.glue.DataSink.pyWriteDynamicFrame(DataSink.scala:64)\n",
      "\tat sun.reflect.NativeMethodAccessorImpl.invoke0(Native Method)\n",
      "\tat sun.reflect.NativeMethodAccessorImpl.invoke(NativeMethodAccessorImpl.java:62)\n",
      "\tat sun.reflect.DelegatingMethodAccessorImpl.invoke(DelegatingMethodAccessorImpl.java:43)\n",
      "\tat java.lang.reflect.Method.invoke(Method.java:498)\n",
      "\tat py4j.reflection.MethodInvoker.invoke(MethodInvoker.java:244)\n",
      "\tat py4j.reflection.ReflectionEngine.invoke(ReflectionEngine.java:357)\n",
      "\tat py4j.Gateway.invoke(Gateway.java:282)\n",
      "\tat py4j.commands.AbstractCommand.invokeMethod(AbstractCommand.java:132)\n",
      "\tat py4j.commands.CallCommand.execute(CallCommand.java:79)\n",
      "\tat py4j.GatewayConnection.run(GatewayConnection.java:238)\n",
      "\tat java.lang.Thread.run(Thread.java:748)\n",
      "\n",
      "Traceback (most recent call last):\n",
      "  File \"/mnt/yarn/usercache/livy/appcache/application_1635419084476_0001/container_1635419084476_0001_01_000001/PyGlue.zip/awsglue/dynamicframe.py\", line 640, in from_options\n",
      "    format_options, transformation_ctx)\n",
      "  File \"/mnt/yarn/usercache/livy/appcache/application_1635419084476_0001/container_1635419084476_0001_01_000001/PyGlue.zip/awsglue/context.py\", line 242, in write_dynamic_frame_from_options\n",
      "    format, format_options, transformation_ctx)\n",
      "  File \"/mnt/yarn/usercache/livy/appcache/application_1635419084476_0001/container_1635419084476_0001_01_000001/PyGlue.zip/awsglue/context.py\", line 265, in write_from_options\n",
      "    return sink.write(frame_or_dfc)\n",
      "  File \"/mnt/yarn/usercache/livy/appcache/application_1635419084476_0001/container_1635419084476_0001_01_000001/PyGlue.zip/awsglue/data_sink.py\", line 35, in write\n",
      "    return self.writeFrame(dynamic_frame_or_dfc, info)\n",
      "  File \"/mnt/yarn/usercache/livy/appcache/application_1635419084476_0001/container_1635419084476_0001_01_000001/PyGlue.zip/awsglue/data_sink.py\", line 31, in writeFrame\n",
      "    return DynamicFrame(self._jsink.pyWriteDynamicFrame(dynamic_frame._jdf, callsite(), info), dynamic_frame.glue_ctx, dynamic_frame.name + \"_errors\")\n",
      "  File \"/mnt/yarn/usercache/livy/appcache/application_1635419084476_0001/container_1635419084476_0001_01_000001/py4j-0.10.7-src.zip/py4j/java_gateway.py\", line 1257, in __call__\n",
      "    answer, self.gateway_client, self.target_id, self.name)\n",
      "  File \"/mnt/yarn/usercache/livy/appcache/application_1635419084476_0001/container_1635419084476_0001_01_000001/pyspark.zip/pyspark/sql/utils.py\", line 63, in deco\n",
      "    return f(*a, **kw)\n",
      "  File \"/mnt/yarn/usercache/livy/appcache/application_1635419084476_0001/container_1635419084476_0001_01_000001/py4j-0.10.7-src.zip/py4j/protocol.py\", line 328, in get_return_value\n",
      "    format(target_id, \".\", name), value)\n",
      "py4j.protocol.Py4JJavaError: An error occurred while calling o981.pyWriteDynamicFrame.\n",
      ": java.sql.SQLException: No suitable driver\n",
      "\tat java.sql.DriverManager.getDriver(DriverManager.java:315)\n",
      "\tat org.apache.spark.sql.execution.datasources.jdbc.JDBCOptions$$anonfun$6.apply(JDBCOptions.scala:105)\n",
      "\tat org.apache.spark.sql.execution.datasources.jdbc.JDBCOptions$$anonfun$6.apply(JDBCOptions.scala:105)\n",
      "\tat scala.Option.getOrElse(Option.scala:121)\n",
      "\tat org.apache.spark.sql.execution.datasources.jdbc.JDBCOptions.<init>(JDBCOptions.scala:104)\n",
      "\tat org.apache.spark.sql.jdbc.glue.GlueJDBCOptions.<init>(GlueJDBCOptions.scala:14)\n",
      "\tat org.apache.spark.sql.jdbc.glue.GlueJDBCOptions.<init>(GlueJDBCOptions.scala:17)\n",
      "\tat com.amazonaws.services.glue.marketplace.partner.PartnerJDBCRecordWriterFactory.<init>(PartnerJDBCDataSink.scala:78)\n",
      "\tat com.amazonaws.services.glue.marketplace.partner.PartnerJDBCDataSink.createWriterFactory(PartnerJDBCDataSink.scala:32)\n",
      "\tat com.amazonaws.services.glue.marketplace.partner.PartnerJDBCDataSink.createWriterFactory(PartnerJDBCDataSink.scala:23)\n",
      "\tat com.amazonaws.services.glue.marketplace.connector.GlueCustomDataSink.defaultWriteDynamicFrame(CustomDataSink.scala:68)\n",
      "\tat com.amazonaws.services.glue.marketplace.connector.GlueCustomDataSink.writeDynamicFrame(CustomDataSink.scala:61)\n",
      "\tat com.amazonaws.services.glue.DataSink.pyWriteDynamicFrame(DataSink.scala:64)\n",
      "\tat sun.reflect.NativeMethodAccessorImpl.invoke0(Native Method)\n",
      "\tat sun.reflect.NativeMethodAccessorImpl.invoke(NativeMethodAccessorImpl.java:62)\n",
      "\tat sun.reflect.DelegatingMethodAccessorImpl.invoke(DelegatingMethodAccessorImpl.java:43)\n",
      "\tat java.lang.reflect.Method.invoke(Method.java:498)\n",
      "\tat py4j.reflection.MethodInvoker.invoke(MethodInvoker.java:244)\n",
      "\tat py4j.reflection.ReflectionEngine.invoke(ReflectionEngine.java:357)\n",
      "\tat py4j.Gateway.invoke(Gateway.java:282)\n",
      "\tat py4j.commands.AbstractCommand.invokeMethod(AbstractCommand.java:132)\n",
      "\tat py4j.commands.CallCommand.execute(CallCommand.java:79)\n",
      "\tat py4j.GatewayConnection.run(GatewayConnection.java:238)\n",
      "\tat java.lang.Thread.run(Thread.java:748)\n",
      "\n",
      "\n"
     ]
    }
   ],
   "source": [
    "job = Job(glueContext)\n",
    "job.init('from_glue_table_to_snowflake')\n",
    "\n",
    "dyf_installed_base = glueContext.create_dynamic_frame.from_catalog(database='hdm_rc_landing_zone', \n",
    "                                                                   table_name='rcl_installed_base')\n",
    "df_installed_base = dyf_installed_base.toDF()\n",
    "for column in df_installed_base.columns:\n",
    "    sf_column = re.sub(r'[^a-zA-Z0-9_]', '_', column)\n",
    "    sf_column = re.sub(r'^([^a-zA-Z])', r'_\\1', sf_column)\n",
    "    sf_column = re.sub(r'_{2,}', '_', sf_column)\n",
    "    sf_column = re.sub(r'_+$', '', sf_column)\n",
    "    if sf_column != column:\n",
    "        df_installed_base = df_installed_base.withColumnRenamed(column, sf_column)\n",
    "dyf_installed_base = DynamicFrame.fromDF(df_installed_base, glueContext, 'df_installed_base')\n",
    "\n",
    "glueContext.write_dynamic_frame.from_options(\n",
    "    frame=dyf_installed_base,\n",
    "    connection_type='custom.jdbc',\n",
    "    connection_options={\n",
    "        'tableName': 'rcl_installed_base',\n",
    "        'dbTable': 'rcl_installed_base',\n",
    "        'connectionName': 'snowflake-glue-jdbc-connection',\n",
    "    },\n",
    "    transformation_ctx=\"df_installed_base\",\n",
    ")\n",
    "\n",
    "job.commit()"
   ]
  },
  {
   "cell_type": "code",
   "execution_count": null,
   "id": "b82e2ad7",
   "metadata": {},
   "outputs": [],
   "source": []
  }
 ],
 "metadata": {
  "kernelspec": {
   "display_name": "Sparkmagic (PySpark)",
   "language": "python",
   "name": "pysparkkernel"
  },
  "language_info": {
   "codemirror_mode": {
    "name": "python",
    "version": 3
   },
   "file_extension": ".py",
   "mimetype": "text/x-python",
   "name": "pyspark",
   "pygments_lexer": "python3"
  }
 },
 "nbformat": 4,
 "nbformat_minor": 5
}
